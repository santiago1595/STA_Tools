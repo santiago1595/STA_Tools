{
  "cells": [
    {
      "cell_type": "code",
      "execution_count": null,
      "metadata": {
        "colab": {
          "base_uri": "https://localhost:8080/"
        },
        "id": "iPGS54znI3cD",
        "outputId": "5dd76a47-16bd-49d7-c428-8f822393517f"
      },
      "outputs": [
        {
          "output_type": "stream",
          "name": "stdout",
          "text": [
            "6.28 31.94\n",
            "Calculated p-value: 0.9353650767608287\n"
          ]
        }
      ],
      "source": [
        "import numpy as np\n",
        "from scipy.stats import t\n",
        "from scipy.stats import chi2\n",
        "import math\n",
        "\n",
        "\n",
        "def calculate_variance_confidence_interval(data, confidence_level=0.95):\n",
        "  '''\n",
        "  This function will calculate the variance confidence intervals.\n",
        "\n",
        "  inputs :\n",
        "    data : Array of values (float,int)\n",
        "    confidence_level : Float has to be from 0.01 to 1.00\n",
        "  returns:\n",
        "    lower_bound : float number for the lower value\n",
        "    upper_bound : float number for the upper value\n",
        "  '''\n",
        "  sample_size = len(data)\n",
        "  dof = sample_size - 1\n",
        "  chi2_lower = chi2.ppf((1 - confidence_level) / 2, df=dof)\n",
        "  chi2_upper = chi2.ppf((1 + confidence_level) / 2, df=dof)\n",
        "\n",
        "  sample_variance = np.var(data, ddof=1)  # Use Bessel's correction for sample variance\n",
        "  lower_bound = (dof * sample_variance) / chi2_upper\n",
        "  upper_bound = (dof * sample_variance) / chi2_lower\n",
        "\n",
        "  return lower_bound, upper_bound\n",
        "\n",
        "def p_val(chi2_value, df):\n",
        "  '''\n",
        "  This function calculate the p-value\n",
        "  inputs:\n",
        "    chi2_value : float value that is the chi-squared value\n",
        "    df : is the degree of freedom\n",
        "  return:\n",
        "    p_value : float value\n",
        "  '''\n",
        "  p_value = 1 - chi2.cdf(chi2_value, df)\n",
        "  return p_value\n",
        "\n",
        "# this is a sample array with random values\n",
        "x = [158.2,\n",
        "161.5,\n",
        "166.5,\n",
        "158.4,\n",
        "159.9,\n",
        "162.8,\n",
        "161.2,\n",
        "160.1,\n",
        "168.8,\n",
        "163.7]\n",
        "\n",
        "\n",
        "l,u = calculate_variance_confidence_interval(x,0.90)\n",
        "\n",
        "print(round(l,2),round(u,2))\n",
        "\n",
        "\n",
        "chi2_value = 4.25\n",
        "df = len(x)\n",
        "p_value = p_val(chi2_value,df)\n",
        "\n",
        "print(\"Calculated p-value:\", p_value)"
      ]
    },
    {
      "cell_type": "markdown",
      "source": [
        "# **This Sections is for F-statistic on Treatments and Blocks**\n",
        " - Please use the variables as appear on Matlab; suchs as k (# of treatments), b (# of blocks)... and so on."
      ],
      "metadata": {
        "id": "s16fuqyhOWTF"
      }
    },
    {
      "cell_type": "code",
      "execution_count": null,
      "metadata": {
        "colab": {
          "base_uri": "https://localhost:8080/"
        },
        "id": "IAQpYOWjEqNg",
        "outputId": "3af55b05-18d5-4109-b067-a144a82ed6be"
      },
      "outputs": [
        {
          "output_type": "stream",
          "name": "stdout",
          "text": [
            "The F-Statistic Treatment is: 3.2, and the p value for Treatment is: 0.0414\n",
            "The F-Statistic Block is: 1.2, and the p value for Block is: 0.3402\n"
          ]
        }
      ],
      "source": [
        "# Finding p-value with F-statistic\n",
        "import scipy.stats as stats\n",
        "\n",
        "\"\"\"\n",
        "INPUTS\n",
        "\"\"\"\n",
        "k = 4\n",
        "b = 9\n",
        "n = 36\n",
        "ss = 2000\n",
        "sst = 400\n",
        "ssb = 600\n",
        "\n",
        "def p_val_F_statistic(F_statistic, df_denominator, df_numerator):\n",
        "  p = 1 - stats.f.cdf(F_statistic,df_denominator,df_numerator)\n",
        "  p = round(p,4)\n",
        "  return p\n",
        "\n",
        "def F_statistic_treatment(k,b,n,ss,sst,ssb):\n",
        "  \"\"\"\n",
        "  This function will take the variables and calculate SSE,MST,MSE and return F_t\n",
        "\n",
        "  Args:\n",
        "    k = (int) total number of treatments\n",
        "    b = (int) total number of block\n",
        "    n = (int) total number of observations\n",
        "    ss = (int) Sum of Squares (total)\n",
        "    sst = (int) Sum of Squares Treatment\n",
        "    ssb = (int) Sum of Squares Blocks\n",
        "\n",
        "  returns:\n",
        "    f_t = (float) f-statistic for treatments\n",
        "    p_val_t = (float) p-value for the treatment\n",
        "  \"\"\"\n",
        "  sse=ss-sst-ssb\n",
        "  mst=sst/(k-1)\n",
        "  mse=sse/(n-b-k+1)\n",
        "  f_t=mst/mse\n",
        "  f_t=round(f_t,4)\n",
        "  p_val_t=p_val_F_statistic(f_t,(k-1),(n-b-k+1))\n",
        "  p_val_t=round(p_val_t,4)\n",
        "\n",
        "  return f_t, p_val_t\n",
        "\n",
        "def F_statistic_block(k,b,n,ss,sst,ssb):\n",
        "  \"\"\"\n",
        "  This function will take the variables and calculate SSE,MST,MSE and return F_b\n",
        "\n",
        "  Args:\n",
        "    k = (int) total number of treatments\n",
        "    b = (int) total number of block\n",
        "    n = (int) total number of observations\n",
        "    ss = (int) Sum of Squares (total)\n",
        "    sst = (int) Sum of Squares Treatment\n",
        "    ssb = (int) Sum of Squares Blocks\n",
        "\n",
        "  returns:\n",
        "    f_b = (float) f-statistic for block\n",
        "    p_val_b = (float) p-value for the block\n",
        "  \"\"\"\n",
        "  sse=ss-sst-ssb\n",
        "  msb=sst/(b-1)\n",
        "  mse=sse/(n-b-k+1)\n",
        "  f_b=msb/mse\n",
        "  f_b=round(f_b,4)\n",
        "  p_val_b=p_val_F_statistic(f_b,(b-1),(n-b-k+1))\n",
        "  p_val_b=round(p_val_b,4)\n",
        "\n",
        "  return f_b, p_val_b\n",
        "f_t,p_val_t = F_statistic_treatment(k,b,n,ss,sst,ssb)\n",
        "f_b,p_val_b = F_statistic_block(k,b,n,ss,sst,ssb)\n",
        "print(f\"The F-Statistic Treatment is: {f_t}, and the p value for Treatment is: {p_val_t}\")\n",
        "print(f\"The F-Statistic Block is: {f_b}, and the p value for Block is: {p_val_b}\")"
      ]
    }
  ],
  "metadata": {
    "colab": {
      "provenance": []
    },
    "kernelspec": {
      "display_name": "Python 3",
      "name": "python3"
    },
    "language_info": {
      "name": "python"
    }
  },
  "nbformat": 4,
  "nbformat_minor": 0
}